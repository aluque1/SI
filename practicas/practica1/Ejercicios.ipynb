{
 "cells": [
  {
   "cell_type": "markdown",
   "metadata": {},
   "source": [
    "## Resuelve los siguientes ejercicios en este archivo y entregalo en el campus al final de la clase."
   ]
  },
  {
   "cell_type": "markdown",
   "metadata": {},
   "source": [
    "**_Ejercicio 1_**. Escribe un programa que calcule el volumen de un cono a partir del radio de la base y su altura. Usa la siguiente fórmula:\n",
    "volumen = pi * radio * radio * altura / 3\n",
    "Solicita los valores de radio y altura al usuario.  El valor aproximado de pi es 3.14159.\n",
    "\n"
   ]
  },
  {
   "cell_type": "code",
   "execution_count": 5,
   "metadata": {},
   "outputs": [
    {
     "name": "stdout",
     "output_type": "stream",
     "text": [
      "1047.1966666666667\n"
     ]
    }
   ],
   "source": [
    "# Escribe aquí la solución del ejercicio 1.\n",
    "pi = 3.14159\n",
    "radio = float(input(\"Introduce el radio \"))\n",
    "altura = float(input(\"Introduce la altura \"))\n",
    "print(pi * radio**2 * altura / 3)\n"
   ]
  },
  {
   "cell_type": "markdown",
   "metadata": {},
   "source": [
    "**_Ejercicio 2_**.  Escribe un programa que clasifique los elementos de una lista en positivos y negativos. Los elementos positivos deben añadirse a una lista y los negativos a otra. Si la lista original contiene ceros, se deben ignorar."
   ]
  },
  {
   "cell_type": "code",
   "execution_count": 6,
   "metadata": {},
   "outputs": [
    {
     "name": "stdout",
     "output_type": "stream",
     "text": [
      "[7, 6, 234]\n",
      "[-9, -4, -7]\n"
     ]
    }
   ],
   "source": [
    "# Escribe aquí la solución del ejercicio 2.\n",
    "#Ejemplo: \n",
    "#lista_original = [7, 6, -9, 234, -4, 0, -7]\n",
    "#Positivos: [7, 6, 234]\n",
    "#Negativos: [-9, -4, -7]\n",
    "\n",
    "lista_original = [7, 6, -9, 234, -4, 0, -7]\n",
    "positivos = []\n",
    "negativos = []\n",
    "\n",
    "for elem in lista_original:\n",
    "    if elem > 0 :\n",
    "        positivos.append(elem)\n",
    "    elif elem < 0 :\n",
    "        negativos.append(elem)\n",
    "\n",
    "print(positivos)\n",
    "print(negativos)"
   ]
  },
  {
   "cell_type": "markdown",
   "metadata": {},
   "source": [
    "**_Ejercicio 3_**.  Escribir una función cuadrados(l) que recibiendo una secuencia l de números, devuelve la lista de los cuadrados de esos números, en el mismo orden. Por ejemplo:\n",
    "\tcuadrados([4,1,5.2,3,8])\n",
    "\t[16, 1, 27.040000000000003, 9, 64]\n",
    "\tHacer dos versiones: una usando un bucle explícito, y la otra mediante definición de listas por comprensión."
   ]
  },
  {
   "cell_type": "code",
   "execution_count": 8,
   "metadata": {},
   "outputs": [
    {
     "name": "stdout",
     "output_type": "stream",
     "text": [
      "[16, 1, 27.040000000000003, 9, 64]\n",
      "[16, 1, 27.040000000000003, 9, 64]\n"
     ]
    }
   ],
   "source": [
    "# Escribe aquí la solución del ejercicio 3.\n",
    "# Escribir una función cuadrados(l) que recibiendo una secuencia l de números,\n",
    "# devuelve la lista de los cuadrados de esos números, en el mismo orden.\n",
    "\n",
    "\n",
    "# Por ejemplo:\n",
    "# \n",
    "# >>> cuadrados([4,1,5.2,3,8])\n",
    "# [16, 1, 27.040000000000003, 9, 64]\n",
    "\n",
    "# ---------------------------------------------------------------------------\n",
    "def c1(l):\n",
    "    lista_ret = []\n",
    "    for elem in l:\n",
    "        lista_ret.append(elem**2)\n",
    "    return lista_ret\n",
    "\n",
    "def c2(l):\n",
    "    list_ret = [x**2 for x in l]\n",
    "    return list_ret\n",
    "    \n",
    "lista = [4,1,5.2,3,8]\n",
    "\n",
    "print(c1(lista))\n",
    "print(c2(lista))"
   ]
  },
  {
   "cell_type": "markdown",
   "metadata": {},
   "source": [
    "**Ejercicio 4**: Crea una función en Python que calcule el mínimo común múltiplo de dos números y el máximo común divisor de dos números"
   ]
  },
  {
   "cell_type": "code",
   "execution_count": 9,
   "metadata": {},
   "outputs": [
    {
     "name": "stdout",
     "output_type": "stream",
     "text": [
      "72.0\n",
      "12\n"
     ]
    }
   ],
   "source": [
    "# Escribe aquí la solución del ejercicio 4.\n",
    "def mcm(a, b): # mcm mediante el algoritmo de Euclides\n",
    "    resto = 0\n",
    "    while b != 0:\n",
    "        resto = b\n",
    "        b = a % b\n",
    "        a = resto\n",
    "    return resto\n",
    "\n",
    "def mcd(a, b): # mcd mediante el mcm\n",
    "    return a * b / mcm(a, b)\n",
    "\n",
    "print(mcd(24, 36))\n",
    "print(mcm(24, 36))"
   ]
  }
 ],
 "metadata": {
  "kernelspec": {
   "display_name": "Python 3 (ipykernel)",
   "language": "python",
   "name": "python3"
  },
  "language_info": {
   "codemirror_mode": {
    "name": "ipython",
    "version": 3
   },
   "file_extension": ".py",
   "mimetype": "text/x-python",
   "name": "python",
   "nbconvert_exporter": "python",
   "pygments_lexer": "ipython3",
   "version": "3.11.6"
  }
 },
 "nbformat": 4,
 "nbformat_minor": 2
}
